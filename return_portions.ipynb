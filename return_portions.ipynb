{
 "cells": [
  {
   "cell_type": "markdown",
   "id": "0805cba4",
   "metadata": {},
   "source": [
    "**July 2, 2025 • 03:24 PM**"
   ]
  },
  {
   "cell_type": "markdown",
   "id": "d7e5188f",
   "metadata": {},
   "source": [
    "# **Urgent Return vs. Planned Return Proportion**\n",
    "\n",
    "__Continue from yesterday presentation (July 1, 2025 • 03:00 PM - 03:10 PM)__\n",
    "\n",
    "> Remove the Return category of \"COVID-19\" and \"โครงการป้อนงานคุณแม่บ้าน\" to see the only 2 proportions of \"Urgent\" and \"Planned\" of service provider's return on booking to be able to see its trend more clearly"
   ]
  },
  {
   "cell_type": "markdown",
   "id": "97f2594e",
   "metadata": {},
   "source": [
    "#### **Importing Libraries**"
   ]
  },
  {
   "cell_type": "code",
   "execution_count": 78,
   "id": "dd304bdc",
   "metadata": {},
   "outputs": [],
   "source": [
    "import numpy as np\n",
    "import pandas as pd\n",
    "import datetime as dt\n",
    "#import pymysql as pydb\n",
    "#from dotenv import load_dotenv\n",
    "import os\n",
    "#from sqlalchemy import create_engine, text, Column, Integer, String, DateTime\n",
    "#from sqlalchemy.orm import sessionmaker, declarative_base\n",
    "from IPython.display import display, clear_output\n",
    "\n",
    "import matplotlib.colors as mcolors\n",
    "from matplotlib.colors import LinearSegmentedColormap\n",
    "\n",
    "import matplotlib.pyplot as plt\n",
    "import seaborn as sns\n",
    "import matplotlib.colors as mcolors\n",
    "from scipy.stats import norm\n",
    "\n",
    "import warnings\n",
    "import matplotlib.ticker as ticker\n",
    "warnings.filterwarnings(\"ignore\")"
   ]
  },
  {
   "cell_type": "markdown",
   "id": "a44d1995",
   "metadata": {},
   "source": [
    "#### **Importing Data**"
   ]
  },
  {
   "cell_type": "code",
   "execution_count": 79,
   "id": "5ec9adc2",
   "metadata": {},
   "outputs": [],
   "source": [
    "df_cancel = pd.read_csv(\"cancel_problem_raw.csv\")\n",
    "remark = pd.read_csv(\"C:\\\\Users\\\\Christopher French\\\\Downloads\\\\ビニート\\\\10_thai_nlp\\\\report_problem_raw.csv\")"
   ]
  },
  {
   "cell_type": "code",
   "execution_count": 80,
   "id": "1b7afb8d",
   "metadata": {},
   "outputs": [
    {
     "data": {
      "text/plain": [
       "<bound method NDFrame.tail of     report_month day_of_week  คืนงาน (กะทันหัน)  คืนงาน (ล่วงหน้า)\n",
       "0        2024-01         Fri                 36                 17\n",
       "1        2024-01         Mon                 22                 23\n",
       "2        2024-01         Sat                 34                 16\n",
       "3        2024-01         Sun                 26                  6\n",
       "4        2024-01         Thu                 25                 23\n",
       "..           ...         ...                ...                ...\n",
       "114      2025-05         Sat                 38                 27\n",
       "115      2025-05         Sun                 32                 16\n",
       "116      2025-05         Thu                 36                 19\n",
       "117      2025-05         Tue                 31                 17\n",
       "118      2025-05         Wed                 35                 15\n",
       "\n",
       "[119 rows x 4 columns]>"
      ]
     },
     "execution_count": 80,
     "metadata": {},
     "output_type": "execute_result"
    }
   ],
   "source": [
    "df_cancel = df_cancel.drop(df_cancel.columns[0], axis=1)\n",
    "df_cancel.tail"
   ]
  },
  {
   "cell_type": "code",
   "execution_count": 81,
   "id": "8bad7141",
   "metadata": {},
   "outputs": [
    {
     "data": {
      "text/html": [
       "<div>\n",
       "<style scoped>\n",
       "    .dataframe tbody tr th:only-of-type {\n",
       "        vertical-align: middle;\n",
       "    }\n",
       "\n",
       "    .dataframe tbody tr th {\n",
       "        vertical-align: top;\n",
       "    }\n",
       "\n",
       "    .dataframe thead th {\n",
       "        text-align: right;\n",
       "    }\n",
       "</style>\n",
       "<table border=\"1\" class=\"dataframe\">\n",
       "  <thead>\n",
       "    <tr style=\"text-align: right;\">\n",
       "      <th></th>\n",
       "      <th>report_problem_id</th>\n",
       "      <th>professional_id</th>\n",
       "      <th>problem_group</th>\n",
       "      <th>problem_name</th>\n",
       "      <th>report_date</th>\n",
       "      <th>remark</th>\n",
       "    </tr>\n",
       "  </thead>\n",
       "  <tbody>\n",
       "    <tr>\n",
       "      <th>27588</th>\n",
       "      <td>36346</td>\n",
       "      <td>11979</td>\n",
       "      <td>คืนงาน / ไม่เข้าให้บริการ</td>\n",
       "      <td>คืนงาน (โครงการป้อนงานคุณแม่บ้าน)</td>\n",
       "      <td>2025-05-31 19:16:00</td>\n",
       "      <td>คุณแม่บ้านไม่สะดวกเข้าให้บริการค่ะ</td>\n",
       "    </tr>\n",
       "    <tr>\n",
       "      <th>27589</th>\n",
       "      <td>36347</td>\n",
       "      <td>7992</td>\n",
       "      <td>คุณภาพการให้บริการ</td>\n",
       "      <td>ทำความสะอาดไม่เรียบร้อย</td>\n",
       "      <td>2025-05-31 20:57:00</td>\n",
       "      <td>คุณแม่บ้านไม่ได้มีการจัดเก็บสิ่งของให้คุณลูกค้...</td>\n",
       "    </tr>\n",
       "    <tr>\n",
       "      <th>27590</th>\n",
       "      <td>36353</td>\n",
       "      <td>1112</td>\n",
       "      <td>คุณภาพการให้บริการ</td>\n",
       "      <td>คุณภาพการให้บริการต่ำกว่า 4 ดาว</td>\n",
       "      <td>2025-05-31 23:08:00</td>\n",
       "      <td>2 ดาว   Complain about the room, not organizin...</td>\n",
       "    </tr>\n",
       "    <tr>\n",
       "      <th>27591</th>\n",
       "      <td>36356</td>\n",
       "      <td>11973</td>\n",
       "      <td>คุณภาพการให้บริการ</td>\n",
       "      <td>ทำความสะอาดไม่เรียบร้อย</td>\n",
       "      <td>2025-05-31 19:00:00</td>\n",
       "      <td>คุณลูกค้าแจ้งรูปภาพพื้นที่ไม่สะอาดเข้ามาทางแชท</td>\n",
       "    </tr>\n",
       "    <tr>\n",
       "      <th>27592</th>\n",
       "      <td>36367</td>\n",
       "      <td>12699</td>\n",
       "      <td>คุณภาพการให้บริการ</td>\n",
       "      <td>ทำความสะอาดไม่เรียบร้อย</td>\n",
       "      <td>2025-05-31 15:17:00</td>\n",
       "      <td>แม่บ้านคนนี้ไม่สะอาดเลยค่ะ ต่อไปไม่เอาคนนี้นะค...</td>\n",
       "    </tr>\n",
       "  </tbody>\n",
       "</table>\n",
       "</div>"
      ],
      "text/plain": [
       "       report_problem_id  professional_id              problem_group  \\\n",
       "27588              36346            11979  คืนงาน / ไม่เข้าให้บริการ   \n",
       "27589              36347             7992         คุณภาพการให้บริการ   \n",
       "27590              36353             1112         คุณภาพการให้บริการ   \n",
       "27591              36356            11973         คุณภาพการให้บริการ   \n",
       "27592              36367            12699         คุณภาพการให้บริการ   \n",
       "\n",
       "                            problem_name          report_date  \\\n",
       "27588  คืนงาน (โครงการป้อนงานคุณแม่บ้าน)  2025-05-31 19:16:00   \n",
       "27589            ทำความสะอาดไม่เรียบร้อย  2025-05-31 20:57:00   \n",
       "27590    คุณภาพการให้บริการต่ำกว่า 4 ดาว  2025-05-31 23:08:00   \n",
       "27591            ทำความสะอาดไม่เรียบร้อย  2025-05-31 19:00:00   \n",
       "27592            ทำความสะอาดไม่เรียบร้อย  2025-05-31 15:17:00   \n",
       "\n",
       "                                                  remark  \n",
       "27588                 คุณแม่บ้านไม่สะดวกเข้าให้บริการค่ะ  \n",
       "27589  คุณแม่บ้านไม่ได้มีการจัดเก็บสิ่งของให้คุณลูกค้...  \n",
       "27590  2 ดาว   Complain about the room, not organizin...  \n",
       "27591     คุณลูกค้าแจ้งรูปภาพพื้นที่ไม่สะอาดเข้ามาทางแชท  \n",
       "27592  แม่บ้านคนนี้ไม่สะอาดเลยค่ะ ต่อไปไม่เอาคนนี้นะค...  "
      ]
     },
     "execution_count": 81,
     "metadata": {},
     "output_type": "execute_result"
    }
   ],
   "source": [
    "remark.tail()"
   ]
  },
  {
   "cell_type": "markdown",
   "id": "3cf15e2b",
   "metadata": {},
   "source": [
    "#### **Data Preprocessing**"
   ]
  },
  {
   "cell_type": "code",
   "execution_count": 82,
   "id": "317514b3",
   "metadata": {},
   "outputs": [
    {
     "data": {
      "text/plain": [
       "report_month         0\n",
       "day_of_week          0\n",
       "คืนงาน (กะทันหัน)    0\n",
       "คืนงาน (ล่วงหน้า)    0\n",
       "dtype: int64"
      ]
     },
     "execution_count": 82,
     "metadata": {},
     "output_type": "execute_result"
    }
   ],
   "source": [
    "df_cancel.isnull().sum()"
   ]
  },
  {
   "cell_type": "code",
   "execution_count": 83,
   "id": "75024ae2",
   "metadata": {},
   "outputs": [
    {
     "data": {
      "text/plain": [
       "report_problem_id    0\n",
       "professional_id      0\n",
       "problem_group        1\n",
       "problem_name         1\n",
       "report_date          0\n",
       "remark               1\n",
       "dtype: int64"
      ]
     },
     "execution_count": 83,
     "metadata": {},
     "output_type": "execute_result"
    }
   ],
   "source": [
    "remark.isnull().sum()"
   ]
  },
  {
   "cell_type": "code",
   "execution_count": 84,
   "id": "2b852acc",
   "metadata": {},
   "outputs": [
    {
     "data": {
      "text/html": [
       "<div>\n",
       "<style scoped>\n",
       "    .dataframe tbody tr th:only-of-type {\n",
       "        vertical-align: middle;\n",
       "    }\n",
       "\n",
       "    .dataframe tbody tr th {\n",
       "        vertical-align: top;\n",
       "    }\n",
       "\n",
       "    .dataframe thead th {\n",
       "        text-align: right;\n",
       "    }\n",
       "</style>\n",
       "<table border=\"1\" class=\"dataframe\">\n",
       "  <thead>\n",
       "    <tr style=\"text-align: right;\">\n",
       "      <th></th>\n",
       "      <th>report_problem_id</th>\n",
       "      <th>professional_id</th>\n",
       "      <th>problem_group</th>\n",
       "      <th>problem_name</th>\n",
       "      <th>report_date</th>\n",
       "      <th>remark</th>\n",
       "    </tr>\n",
       "  </thead>\n",
       "  <tbody>\n",
       "    <tr>\n",
       "      <th>687</th>\n",
       "      <td>8444</td>\n",
       "      <td>3050</td>\n",
       "      <td>NaN</td>\n",
       "      <td>NaN</td>\n",
       "      <td>2022-02-19 00:00:00</td>\n",
       "      <td>NaN</td>\n",
       "    </tr>\n",
       "  </tbody>\n",
       "</table>\n",
       "</div>"
      ],
      "text/plain": [
       "     report_problem_id  professional_id problem_group problem_name  \\\n",
       "687               8444             3050           NaN          NaN   \n",
       "\n",
       "             report_date remark  \n",
       "687  2022-02-19 00:00:00    NaN  "
      ]
     },
     "execution_count": 84,
     "metadata": {},
     "output_type": "execute_result"
    }
   ],
   "source": [
    "remark[remark['remark'].isnull()]"
   ]
  },
  {
   "cell_type": "code",
   "execution_count": 85,
   "id": "b25a157c",
   "metadata": {},
   "outputs": [],
   "source": [
    "# Drop rows where 'remark' is null\n",
    "remark = remark.dropna(subset=['remark'])"
   ]
  },
  {
   "cell_type": "code",
   "execution_count": 86,
   "id": "9e8419c7",
   "metadata": {},
   "outputs": [
    {
     "data": {
      "text/plain": [
       "report_problem_id    0\n",
       "professional_id      0\n",
       "problem_group        0\n",
       "problem_name         0\n",
       "report_date          0\n",
       "remark               0\n",
       "dtype: int64"
      ]
     },
     "execution_count": 86,
     "metadata": {},
     "output_type": "execute_result"
    }
   ],
   "source": [
    "remark.isnull().sum()"
   ]
  },
  {
   "cell_type": "markdown",
   "id": "409639dd",
   "metadata": {},
   "source": [
    "#### **Remark Filtering**"
   ]
  },
  {
   "cell_type": "code",
   "execution_count": 87,
   "id": "6ef02ef5",
   "metadata": {},
   "outputs": [
    {
     "data": {
      "text/plain": [
       "problem_name\n",
       "คืนงาน (กะทันหัน)                                                             7741\n",
       "คืนงาน (ล่วงหน้า)                                                             4850\n",
       "คุณภาพการให้บริการต่ำกว่า 4 ดาว                                               4174\n",
       "ทำความสะอาดไม่เรียบร้อย                                                       3980\n",
       "ทำทรัพย์สินของลูกค้าเสียหาย                                                   2340\n",
       "ลูกค้าขอเงินคืน                                                                949\n",
       "อื่น ๆ                                                                         898\n",
       "คืนงาน (โควิด)                                                                 450\n",
       "Checkout ก่อนเวลา / ให้บริการไม่ครบชั่วโมงการจอง                               354\n",
       "เข้าให้บริการสาย                                                               338\n",
       "รับงานแล้วไม่ไปให้บริการ / ไม่มีการแจ้งเรื่องเข้ามา (No Show)                  234\n",
       "ทรัพย์สิน \"สูญหาย\" หลังใช้บริการ                                               230\n",
       "ประกันคุณภาพ / ความพึงพอใจ                                                     191\n",
       "คืนงาน (โครงการป้อนงานคุณแม่บ้าน)                                              127\n",
       "ขอเลื่อนเวลานัดหมายการให้บริการ                                                117\n",
       "อุปกรณ์/น้ำยาทำความสะอาด                                                       110\n",
       "แสดงกริยา ท่าทาง ไม่เหมาะสมขณะเข้าให้บริการ                                     81\n",
       "แนวโน้มรับงานนอก / รับเงินสด                                                    69\n",
       "การสื่อสาร / ใช้ถ้อยคำไม่สุภาพ / สอบถามเรื่องส่วนตัวคุณลูกค้า                   68\n",
       "ไม่โทร confirm หลังจากรับงาน หรือ ก่อนวันเข้าให้บริการ                          45\n",
       "ทิ้งของโดยไม่ถามคุณลูกค้า                                                       43\n",
       "Checkin ก่อนถึงสถานที่นัดหมาย                                                   32\n",
       "รีดผ้าไม่เรียบ                                                                  30\n",
       "เปิด/ปิด เครื่องใช้ไฟฟ้าของคุณลูกค้าโดยไม่ได้รับอนุญาต                          26\n",
       "รีดผ้าไม่ครบจำนวนชิ้น                                                           19\n",
       "ไม่สามารถให้บริการได้ครบตามการจอง [เกิดปัญหาจากคุณลูกค้า]                       18\n",
       "ใช้โทรศัพท์ขณะให้บริการ                                                         15\n",
       "แอร์มีน้ำหยด                                                                    13\n",
       "ผู้ให้บริการไปถึงแล้ว แต่ไม่สามารถเข้าให้บริการได้ [เกิดปัญหาจากคุณลูกค้า]       9\n",
       "ไม่แสดงตนเป็นผู้ให้บริการในระบบบีนีท                                             6\n",
       "พาบุคคลภายนอก (นอกเหนือจากข้อมูลการจอง) เข้าให้บริการ                            6\n",
       "รีดผ้าไหม้ / ผ้าเสียหาย                                                          6\n",
       "แอร์ไม่เย็น                                                                      5\n",
       "พื้นที่ \"ล้างแอร์\" ยังไม่สะอาดเรียบร้อย                                          5\n",
       "แอร์เสีย หลังการล้าง                                                             4\n",
       "แอร์มีเสียงดัง                                                                   4\n",
       "แต่งกายไม่เรียบร้อย / ไม่ถูกกาละเทศะ                                             4\n",
       "แอร์เปิดไม่ติด                                                                   1\n",
       "Name: count, dtype: int64"
      ]
     },
     "execution_count": 87,
     "metadata": {},
     "output_type": "execute_result"
    }
   ],
   "source": [
    "remark.problem_name.value_counts()"
   ]
  },
  {
   "cell_type": "code",
   "execution_count": 88,
   "id": "2f5f8161",
   "metadata": {},
   "outputs": [],
   "source": [
    "# Filter remarks for specific problem names\n",
    "remark_return = remark[remark['problem_name'].isin([\"คืนงาน (กะทันหัน)\", \"คืนงาน (ล่วงหน้า)\"])].copy()\n",
    "\n",
    "# Remove the time part in report_date\n",
    "remark_return['report_date'] = pd.to_datetime(remark_return['report_date']).dt.date\n",
    "\n",
    "# Create a new column \"report_month\" from \"report_date\"\n",
    "remark_return['report_month'] = pd.to_datetime(remark_return['report_date']).dt.to_period('M')\n",
    "\n",
    "# Create a new column \"day_of_week\" from \"report_date\"\n",
    "remark_return['day_of_week'] = pd.to_datetime(remark_return['report_date']).dt.day_name()\n",
    "\n",
    "# Truncate day_of_week to 3 letters\n",
    "remark_return['day_of_week'] = remark_return['day_of_week'].str[:3]"
   ]
  },
  {
   "cell_type": "code",
   "execution_count": 89,
   "id": "18e870b1",
   "metadata": {},
   "outputs": [
    {
     "data": {
      "text/html": [
       "<div>\n",
       "<style scoped>\n",
       "    .dataframe tbody tr th:only-of-type {\n",
       "        vertical-align: middle;\n",
       "    }\n",
       "\n",
       "    .dataframe tbody tr th {\n",
       "        vertical-align: top;\n",
       "    }\n",
       "\n",
       "    .dataframe thead th {\n",
       "        text-align: right;\n",
       "    }\n",
       "</style>\n",
       "<table border=\"1\" class=\"dataframe\">\n",
       "  <thead>\n",
       "    <tr style=\"text-align: right;\">\n",
       "      <th></th>\n",
       "      <th>report_problem_id</th>\n",
       "      <th>professional_id</th>\n",
       "      <th>problem_group</th>\n",
       "      <th>problem_name</th>\n",
       "      <th>report_date</th>\n",
       "      <th>remark</th>\n",
       "      <th>report_month</th>\n",
       "      <th>day_of_week</th>\n",
       "    </tr>\n",
       "  </thead>\n",
       "  <tbody>\n",
       "    <tr>\n",
       "      <th>0</th>\n",
       "      <td>7714</td>\n",
       "      <td>1753</td>\n",
       "      <td>คืนงาน / ไม่เข้าให้บริการ</td>\n",
       "      <td>คืนงาน (กะทันหัน)</td>\n",
       "      <td>2022-01-01</td>\n",
       "      <td>คุณแม่บ้านคืนงาน smart world แจ้งไม่สะบายค่ะ \\...</td>\n",
       "      <td>2022-01</td>\n",
       "      <td>Sat</td>\n",
       "    </tr>\n",
       "    <tr>\n",
       "      <th>3</th>\n",
       "      <td>7717</td>\n",
       "      <td>4379</td>\n",
       "      <td>คืนงาน / ไม่เข้าให้บริการ</td>\n",
       "      <td>คืนงาน (กะทันหัน)</td>\n",
       "      <td>2022-01-01</td>\n",
       "      <td>เนื่องจากคุณแม่บ้านกดหัวใจให้คุณลูกค้างานจึงเข...</td>\n",
       "      <td>2022-01</td>\n",
       "      <td>Sat</td>\n",
       "    </tr>\n",
       "    <tr>\n",
       "      <th>7</th>\n",
       "      <td>7721</td>\n",
       "      <td>3945</td>\n",
       "      <td>คืนงาน / ไม่เข้าให้บริการ</td>\n",
       "      <td>คืนงาน (กะทันหัน)</td>\n",
       "      <td>2022-01-01</td>\n",
       "      <td>สวัสดีค่ะแอดมินขอคืนงานวันที่สองเวลา 09:00 น....</td>\n",
       "      <td>2022-01</td>\n",
       "      <td>Sat</td>\n",
       "    </tr>\n",
       "    <tr>\n",
       "      <th>9</th>\n",
       "      <td>7723</td>\n",
       "      <td>4902</td>\n",
       "      <td>คืนงาน / ไม่เข้าให้บริการ</td>\n",
       "      <td>คืนงาน (ล่วงหน้า)</td>\n",
       "      <td>2022-01-02</td>\n",
       "      <td>1/1,22.01  แจ้งคืน 4  งาน (ลูกค้าท่านเดียว )เน...</td>\n",
       "      <td>2022-01</td>\n",
       "      <td>Sun</td>\n",
       "    </tr>\n",
       "    <tr>\n",
       "      <th>11</th>\n",
       "      <td>7725</td>\n",
       "      <td>4525</td>\n",
       "      <td>คืนงาน / ไม่เข้าให้บริการ</td>\n",
       "      <td>คืนงาน (กะทันหัน)</td>\n",
       "      <td>2022-01-02</td>\n",
       "      <td>2/1,10:43 แจ้งไกล  กดรับงานผิดขอคืนงานค่ะ\\n\\n*...</td>\n",
       "      <td>2022-01</td>\n",
       "      <td>Sun</td>\n",
       "    </tr>\n",
       "    <tr>\n",
       "      <th>...</th>\n",
       "      <td>...</td>\n",
       "      <td>...</td>\n",
       "      <td>...</td>\n",
       "      <td>...</td>\n",
       "      <td>...</td>\n",
       "      <td>...</td>\n",
       "      <td>...</td>\n",
       "      <td>...</td>\n",
       "    </tr>\n",
       "    <tr>\n",
       "      <th>27566</th>\n",
       "      <td>36324</td>\n",
       "      <td>12091</td>\n",
       "      <td>คืนงาน / ไม่เข้าให้บริการ</td>\n",
       "      <td>คืนงาน (กะทันหัน)</td>\n",
       "      <td>2025-05-31</td>\n",
       "      <td>คุณช่างแจ้งขอคืนงาน เนื่องจากจะไปรับงาน  #2505...</td>\n",
       "      <td>2025-05</td>\n",
       "      <td>Sat</td>\n",
       "    </tr>\n",
       "    <tr>\n",
       "      <th>27570</th>\n",
       "      <td>36328</td>\n",
       "      <td>12341</td>\n",
       "      <td>คืนงาน / ไม่เข้าให้บริการ</td>\n",
       "      <td>คืนงาน (ล่วงหน้า)</td>\n",
       "      <td>2025-05-31</td>\n",
       "      <td>ติดอบรมจากงานประจำค่ะ</td>\n",
       "      <td>2025-05</td>\n",
       "      <td>Sat</td>\n",
       "    </tr>\n",
       "    <tr>\n",
       "      <th>27578</th>\n",
       "      <td>36336</td>\n",
       "      <td>12523</td>\n",
       "      <td>คืนงาน / ไม่เข้าให้บริการ</td>\n",
       "      <td>คืนงาน (ล่วงหน้า)</td>\n",
       "      <td>2025-05-31</td>\n",
       "      <td>คุณแม่บ้านแจ้งคืนงาน 2 การจอง เนื่องจาก \\n#250...</td>\n",
       "      <td>2025-05</td>\n",
       "      <td>Sat</td>\n",
       "    </tr>\n",
       "    <tr>\n",
       "      <th>27586</th>\n",
       "      <td>36344</td>\n",
       "      <td>11272</td>\n",
       "      <td>คืนงาน / ไม่เข้าให้บริการ</td>\n",
       "      <td>คืนงาน (ล่วงหน้า)</td>\n",
       "      <td>2025-05-31</td>\n",
       "      <td>คุณแม่บ้านแจ้งคืนงานเนื่องจากดูวันทีผิด</td>\n",
       "      <td>2025-05</td>\n",
       "      <td>Sat</td>\n",
       "    </tr>\n",
       "    <tr>\n",
       "      <th>27587</th>\n",
       "      <td>36345</td>\n",
       "      <td>12631</td>\n",
       "      <td>คืนงาน / ไม่เข้าให้บริการ</td>\n",
       "      <td>คืนงาน (ล่วงหน้า)</td>\n",
       "      <td>2025-05-31</td>\n",
       "      <td>คุณแม่บ้านแจ้งขอคืนงาน เนื่องจากแจ้งว่าดูวันที...</td>\n",
       "      <td>2025-05</td>\n",
       "      <td>Sat</td>\n",
       "    </tr>\n",
       "  </tbody>\n",
       "</table>\n",
       "<p>12591 rows × 8 columns</p>\n",
       "</div>"
      ],
      "text/plain": [
       "       report_problem_id  professional_id              problem_group  \\\n",
       "0                   7714             1753  คืนงาน / ไม่เข้าให้บริการ   \n",
       "3                   7717             4379  คืนงาน / ไม่เข้าให้บริการ   \n",
       "7                   7721             3945  คืนงาน / ไม่เข้าให้บริการ   \n",
       "9                   7723             4902  คืนงาน / ไม่เข้าให้บริการ   \n",
       "11                  7725             4525  คืนงาน / ไม่เข้าให้บริการ   \n",
       "...                  ...              ...                        ...   \n",
       "27566              36324            12091  คืนงาน / ไม่เข้าให้บริการ   \n",
       "27570              36328            12341  คืนงาน / ไม่เข้าให้บริการ   \n",
       "27578              36336            12523  คืนงาน / ไม่เข้าให้บริการ   \n",
       "27586              36344            11272  คืนงาน / ไม่เข้าให้บริการ   \n",
       "27587              36345            12631  คืนงาน / ไม่เข้าให้บริการ   \n",
       "\n",
       "            problem_name report_date  \\\n",
       "0      คืนงาน (กะทันหัน)  2022-01-01   \n",
       "3      คืนงาน (กะทันหัน)  2022-01-01   \n",
       "7      คืนงาน (กะทันหัน)  2022-01-01   \n",
       "9      คืนงาน (ล่วงหน้า)  2022-01-02   \n",
       "11     คืนงาน (กะทันหัน)  2022-01-02   \n",
       "...                  ...         ...   \n",
       "27566  คืนงาน (กะทันหัน)  2025-05-31   \n",
       "27570  คืนงาน (ล่วงหน้า)  2025-05-31   \n",
       "27578  คืนงาน (ล่วงหน้า)  2025-05-31   \n",
       "27586  คืนงาน (ล่วงหน้า)  2025-05-31   \n",
       "27587  คืนงาน (ล่วงหน้า)  2025-05-31   \n",
       "\n",
       "                                                  remark report_month  \\\n",
       "0      คุณแม่บ้านคืนงาน smart world แจ้งไม่สะบายค่ะ \\...      2022-01   \n",
       "3      เนื่องจากคุณแม่บ้านกดหัวใจให้คุณลูกค้างานจึงเข...      2022-01   \n",
       "7       สวัสดีค่ะแอดมินขอคืนงานวันที่สองเวลา 09:00 น....      2022-01   \n",
       "9      1/1,22.01  แจ้งคืน 4  งาน (ลูกค้าท่านเดียว )เน...      2022-01   \n",
       "11     2/1,10:43 แจ้งไกล  กดรับงานผิดขอคืนงานค่ะ\\n\\n*...      2022-01   \n",
       "...                                                  ...          ...   \n",
       "27566  คุณช่างแจ้งขอคืนงาน เนื่องจากจะไปรับงาน  #2505...      2025-05   \n",
       "27570                              ติดอบรมจากงานประจำค่ะ      2025-05   \n",
       "27578  คุณแม่บ้านแจ้งคืนงาน 2 การจอง เนื่องจาก \\n#250...      2025-05   \n",
       "27586            คุณแม่บ้านแจ้งคืนงานเนื่องจากดูวันทีผิด      2025-05   \n",
       "27587  คุณแม่บ้านแจ้งขอคืนงาน เนื่องจากแจ้งว่าดูวันที...      2025-05   \n",
       "\n",
       "      day_of_week  \n",
       "0             Sat  \n",
       "3             Sat  \n",
       "7             Sat  \n",
       "9             Sun  \n",
       "11            Sun  \n",
       "...           ...  \n",
       "27566         Sat  \n",
       "27570         Sat  \n",
       "27578         Sat  \n",
       "27586         Sat  \n",
       "27587         Sat  \n",
       "\n",
       "[12591 rows x 8 columns]"
      ]
     },
     "execution_count": 89,
     "metadata": {},
     "output_type": "execute_result"
    }
   ],
   "source": [
    "remark_return"
   ]
  },
  {
   "cell_type": "code",
   "execution_count": 97,
   "id": "c2386942",
   "metadata": {},
   "outputs": [
    {
     "data": {
      "text/plain": [
       "report_problem_id    22\n",
       "professional_id      22\n",
       "problem_group        22\n",
       "problem_name         22\n",
       "report_date          22\n",
       "remark               22\n",
       "report_month         22\n",
       "day_of_week          22\n",
       "dtype: int64"
      ]
     },
     "execution_count": 97,
     "metadata": {},
     "output_type": "execute_result"
    }
   ],
   "source": [
    "remark_return[(remark_return[\"report_month\"] == \"2024-01\")\n",
    "              & (remark_return[\"day_of_week\"] == \"Mon\")\n",
    "              & (remark_return[\"problem_name\"] == \"คืนงาน (กะทันหัน)\")].count()"
   ]
  },
  {
   "cell_type": "code",
   "execution_count": 96,
   "id": "9bdeee16",
   "metadata": {},
   "outputs": [
    {
     "data": {
      "text/plain": [
       "report_problem_id    23\n",
       "professional_id      23\n",
       "problem_group        23\n",
       "problem_name         23\n",
       "report_date          23\n",
       "remark               23\n",
       "report_month         23\n",
       "day_of_week          23\n",
       "dtype: int64"
      ]
     },
     "execution_count": 96,
     "metadata": {},
     "output_type": "execute_result"
    }
   ],
   "source": [
    "remark_return[(remark_return[\"report_month\"] == \"2024-01\")\n",
    "              & (remark_return[\"day_of_week\"] == \"Mon\")\n",
    "              & (remark_return[\"problem_name\"] == \"คืนงาน (ล่วงหน้า)\")].count()"
   ]
  },
  {
   "cell_type": "code",
   "execution_count": 64,
   "id": "454a0222",
   "metadata": {},
   "outputs": [
    {
     "data": {
      "text/html": [
       "<div>\n",
       "<style scoped>\n",
       "    .dataframe tbody tr th:only-of-type {\n",
       "        vertical-align: middle;\n",
       "    }\n",
       "\n",
       "    .dataframe tbody tr th {\n",
       "        vertical-align: top;\n",
       "    }\n",
       "\n",
       "    .dataframe thead th {\n",
       "        text-align: right;\n",
       "    }\n",
       "</style>\n",
       "<table border=\"1\" class=\"dataframe\">\n",
       "  <thead>\n",
       "    <tr style=\"text-align: right;\">\n",
       "      <th></th>\n",
       "      <th>report_month</th>\n",
       "      <th>day_of_week</th>\n",
       "      <th>คืนงาน (กะทันหัน)</th>\n",
       "      <th>คืนงาน (ล่วงหน้า)</th>\n",
       "    </tr>\n",
       "  </thead>\n",
       "  <tbody>\n",
       "    <tr>\n",
       "      <th>0</th>\n",
       "      <td>2024-01</td>\n",
       "      <td>Fri</td>\n",
       "      <td>36</td>\n",
       "      <td>17</td>\n",
       "    </tr>\n",
       "    <tr>\n",
       "      <th>1</th>\n",
       "      <td>2024-01</td>\n",
       "      <td>Mon</td>\n",
       "      <td>22</td>\n",
       "      <td>23</td>\n",
       "    </tr>\n",
       "    <tr>\n",
       "      <th>2</th>\n",
       "      <td>2024-01</td>\n",
       "      <td>Sat</td>\n",
       "      <td>34</td>\n",
       "      <td>16</td>\n",
       "    </tr>\n",
       "    <tr>\n",
       "      <th>3</th>\n",
       "      <td>2024-01</td>\n",
       "      <td>Sun</td>\n",
       "      <td>26</td>\n",
       "      <td>6</td>\n",
       "    </tr>\n",
       "    <tr>\n",
       "      <th>4</th>\n",
       "      <td>2024-01</td>\n",
       "      <td>Thu</td>\n",
       "      <td>25</td>\n",
       "      <td>23</td>\n",
       "    </tr>\n",
       "    <tr>\n",
       "      <th>5</th>\n",
       "      <td>2024-01</td>\n",
       "      <td>Tue</td>\n",
       "      <td>27</td>\n",
       "      <td>18</td>\n",
       "    </tr>\n",
       "    <tr>\n",
       "      <th>6</th>\n",
       "      <td>2024-01</td>\n",
       "      <td>Wed</td>\n",
       "      <td>24</td>\n",
       "      <td>19</td>\n",
       "    </tr>\n",
       "  </tbody>\n",
       "</table>\n",
       "</div>"
      ],
      "text/plain": [
       "  report_month day_of_week  คืนงาน (กะทันหัน)  คืนงาน (ล่วงหน้า)\n",
       "0      2024-01         Fri                 36                 17\n",
       "1      2024-01         Mon                 22                 23\n",
       "2      2024-01         Sat                 34                 16\n",
       "3      2024-01         Sun                 26                  6\n",
       "4      2024-01         Thu                 25                 23\n",
       "5      2024-01         Tue                 27                 18\n",
       "6      2024-01         Wed                 24                 19"
      ]
     },
     "execution_count": 64,
     "metadata": {},
     "output_type": "execute_result"
    }
   ],
   "source": [
    "df_cancel[df_cancel[\"report_month\"] == \"2024-01\"]"
   ]
  }
 ],
 "metadata": {
  "kernelspec": {
   "display_name": "venv",
   "language": "python",
   "name": "python3"
  },
  "language_info": {
   "codemirror_mode": {
    "name": "ipython",
    "version": 3
   },
   "file_extension": ".py",
   "mimetype": "text/x-python",
   "name": "python",
   "nbconvert_exporter": "python",
   "pygments_lexer": "ipython3",
   "version": "3.13.3"
  }
 },
 "nbformat": 4,
 "nbformat_minor": 5
}
